{
 "cells": [
  {
   "cell_type": "markdown",
   "id": "056df6e9",
   "metadata": {},
   "source": [
    "# Валидация"
   ]
  },
  {
   "cell_type": "markdown",
   "id": "cc0115e6",
   "metadata": {},
   "source": [
    "## Imports"
   ]
  },
  {
   "cell_type": "code",
   "execution_count": 1,
   "id": "2df35e7f",
   "metadata": {},
   "outputs": [],
   "source": [
    "import numpy as np\n",
    "import pandas as pd\n",
    "from rectools import Columns"
   ]
  },
  {
   "cell_type": "code",
   "execution_count": 2,
   "id": "e98ffc37",
   "metadata": {
    "ExecuteTime": {
     "end_time": "2022-11-16T13:17:45.251478Z",
     "start_time": "2022-11-16T13:17:45.238476Z"
    }
   },
   "outputs": [],
   "source": [
    "class UsersKFoldPOut():\n",
    "    def __init__(self, n_folds, p, user_column=Columns.User, random_seed=23):\n",
    "        self.n_folds = n_folds\n",
    "        self.p = p\n",
    "        self.user_column = user_column\n",
    "        self.random_seed = random_seed\n",
    "    \n",
    "    def split(self, df):\n",
    "        df['target'] = df['order'] < self.p\n",
    "        users = df[self.user_column].unique()\n",
    "        users_count = len(users)\n",
    "\n",
    "        np.random.seed(self.random_seed)\n",
    "        np.random.shuffle(users)\n",
    "        \n",
    "        fold_sizes = np.full(self.n_folds, users_count // self.n_folds, dtype=int)\n",
    "        fold_sizes[: users_count % self.n_folds] += 1\n",
    "        current = 0\n",
    "        for fold_size in fold_sizes:\n",
    "            start, stop = current, current + fold_size\n",
    "            test_fold_users = users[start:stop]\n",
    "\n",
    "            test_mask = df[self.user_column].isin(test_fold_users) & df['target']\n",
    "            train_mask = ~df[self.user_column].isin(test_fold_users)\n",
    "            yield train_mask, test_mask"
   ]
  },
  {
   "cell_type": "markdown",
   "id": "9f4b059a",
   "metadata": {},
   "source": [
    "## Read data\n",
    "\n",
    "Данные - https://disk.yandex.ru/d/SI1aAooPn9i8TA"
   ]
  },
  {
   "cell_type": "code",
   "execution_count": 3,
   "id": "01c964ac",
   "metadata": {},
   "outputs": [
    {
     "name": "stdout",
     "output_type": "stream",
     "text": [
      "Archive:  likes_data.zip\n",
      "  inflating: test                    \n",
      "  inflating: __MACOSX/._test         \n",
      "  inflating: track_artists.csv       \n",
      "  inflating: train                   \n",
      "  inflating: __MACOSX/._train        \n"
     ]
    }
   ],
   "source": [
    "!unzip -o likes_data.zip"
   ]
  },
  {
   "cell_type": "code",
   "execution_count": 4,
   "id": "1f192d58",
   "metadata": {},
   "outputs": [],
   "source": [
    "with open('train') as f:\n",
    "    train = f.read().split('\\n')[:-1]"
   ]
  },
  {
   "cell_type": "code",
   "execution_count": 5,
   "id": "69ab4bc6",
   "metadata": {},
   "outputs": [],
   "source": [
    "with open('test') as f:\n",
    "    test = f.read().split('\\n')[:-1]"
   ]
  },
  {
   "cell_type": "code",
   "execution_count": 6,
   "id": "f0e4fb53",
   "metadata": {},
   "outputs": [],
   "source": [
    "def generate_item_sequence(record_id, record):\n",
    "    items = record.split(' ')[::-1]\n",
    "    result = []\n",
    "    for i in range(0, len(items)):\n",
    "        result.append([record_id, int(items[i]), i])\n",
    "    return result"
   ]
  },
  {
   "cell_type": "code",
   "execution_count": 7,
   "id": "349e6d7c",
   "metadata": {},
   "outputs": [
    {
     "data": {
      "text/html": [
       "<div>\n",
       "<style scoped>\n",
       "    .dataframe tbody tr th:only-of-type {\n",
       "        vertical-align: middle;\n",
       "    }\n",
       "\n",
       "    .dataframe tbody tr th {\n",
       "        vertical-align: top;\n",
       "    }\n",
       "\n",
       "    .dataframe thead th {\n",
       "        text-align: right;\n",
       "    }\n",
       "</style>\n",
       "<table border=\"1\" class=\"dataframe\">\n",
       "  <thead>\n",
       "    <tr style=\"text-align: right;\">\n",
       "      <th></th>\n",
       "      <th>user_id</th>\n",
       "      <th>item</th>\n",
       "      <th>order</th>\n",
       "    </tr>\n",
       "  </thead>\n",
       "  <tbody>\n",
       "    <tr>\n",
       "      <th>0</th>\n",
       "      <td>0</td>\n",
       "      <td>388242</td>\n",
       "      <td>0</td>\n",
       "    </tr>\n",
       "    <tr>\n",
       "      <th>1</th>\n",
       "      <td>0</td>\n",
       "      <td>278503</td>\n",
       "      <td>1</td>\n",
       "    </tr>\n",
       "    <tr>\n",
       "      <th>2</th>\n",
       "      <td>0</td>\n",
       "      <td>102795</td>\n",
       "      <td>2</td>\n",
       "    </tr>\n",
       "    <tr>\n",
       "      <th>3</th>\n",
       "      <td>0</td>\n",
       "      <td>470957</td>\n",
       "      <td>3</td>\n",
       "    </tr>\n",
       "    <tr>\n",
       "      <th>4</th>\n",
       "      <td>0</td>\n",
       "      <td>159637</td>\n",
       "      <td>4</td>\n",
       "    </tr>\n",
       "    <tr>\n",
       "      <th>...</th>\n",
       "      <td>...</td>\n",
       "      <td>...</td>\n",
       "      <td>...</td>\n",
       "    </tr>\n",
       "    <tr>\n",
       "      <th>15515</th>\n",
       "      <td>199</td>\n",
       "      <td>429513</td>\n",
       "      <td>10</td>\n",
       "    </tr>\n",
       "    <tr>\n",
       "      <th>15516</th>\n",
       "      <td>199</td>\n",
       "      <td>96020</td>\n",
       "      <td>11</td>\n",
       "    </tr>\n",
       "    <tr>\n",
       "      <th>15517</th>\n",
       "      <td>199</td>\n",
       "      <td>333300</td>\n",
       "      <td>12</td>\n",
       "    </tr>\n",
       "    <tr>\n",
       "      <th>15518</th>\n",
       "      <td>199</td>\n",
       "      <td>338744</td>\n",
       "      <td>13</td>\n",
       "    </tr>\n",
       "    <tr>\n",
       "      <th>15519</th>\n",
       "      <td>199</td>\n",
       "      <td>111906</td>\n",
       "      <td>14</td>\n",
       "    </tr>\n",
       "  </tbody>\n",
       "</table>\n",
       "<p>15520 rows × 3 columns</p>\n",
       "</div>"
      ],
      "text/plain": [
       "       user_id    item  order\n",
       "0            0  388242      0\n",
       "1            0  278503      1\n",
       "2            0  102795      2\n",
       "3            0  470957      3\n",
       "4            0  159637      4\n",
       "...        ...     ...    ...\n",
       "15515      199  429513     10\n",
       "15516      199   96020     11\n",
       "15517      199  333300     12\n",
       "15518      199  338744     13\n",
       "15519      199  111906     14\n",
       "\n",
       "[15520 rows x 3 columns]"
      ]
     },
     "execution_count": 7,
     "metadata": {},
     "output_type": "execute_result"
    }
   ],
   "source": [
    "common = train + test\n",
    "# df_size = len(common)\n",
    "# Ограничим размер для скорости работы\n",
    "df_size = 200\n",
    "df_common = []\n",
    "for i in range(0, df_size): \n",
    "    df_common += generate_item_sequence(i, common[i]) \n",
    "\n",
    "df_common = pd.DataFrame(data=df_common, columns=['user_id', 'item', 'order'])\n",
    "df_common"
   ]
  },
  {
   "cell_type": "markdown",
   "id": "1709f82f",
   "metadata": {},
   "source": [
    "<hr />"
   ]
  },
  {
   "cell_type": "code",
   "execution_count": 8,
   "id": "ef4e74be",
   "metadata": {
    "ExecuteTime": {
     "end_time": "2022-11-16T13:17:45.267474Z",
     "start_time": "2022-11-16T13:17:45.254478Z"
    }
   },
   "outputs": [
    {
     "name": "stdout",
     "output_type": "stream",
     "text": [
      "Fold#0 | Train: 9605, Test: 67\n",
      "Fold#1 | Train: 9605, Test: 67\n",
      "Fold#2 | Train: 9618, Test: 66\n"
     ]
    }
   ],
   "source": [
    "cv = UsersKFoldPOut(n_folds=3, p=1)\n",
    "\n",
    "for i, (train_mask, test_mask) in enumerate(cv.split(df_common)):\n",
    "    train = df_common[train_mask]\n",
    "    test = df_common[test_mask]\n",
    "    print(f'Fold#{i} | Train: {train.shape[0]}, Test: {test.shape[0]}')"
   ]
  }
 ],
 "metadata": {
  "kernelspec": {
   "display_name": "Python 3 (ipykernel)",
   "language": "python",
   "name": "python3"
  },
  "language_info": {
   "codemirror_mode": {
    "name": "ipython",
    "version": 3
   },
   "file_extension": ".py",
   "mimetype": "text/x-python",
   "name": "python",
   "nbconvert_exporter": "python",
   "pygments_lexer": "ipython3",
   "version": "3.8.13"
  },
  "toc": {
   "base_numbering": 1,
   "nav_menu": {},
   "number_sections": true,
   "sideBar": true,
   "skip_h1_title": true,
   "title_cell": "Table of Contents",
   "title_sidebar": "Contents",
   "toc_cell": false,
   "toc_position": {
    "height": "calc(100% - 180px)",
    "left": "10px",
    "top": "150px",
    "width": "207px"
   },
   "toc_section_display": true,
   "toc_window_display": true
  },
  "vscode": {
   "interpreter": {
    "hash": "b28d1757a790fe3d6efa9e52fbe864a6198183c15b8fda8f4648b02f4e9cb71c"
   }
  }
 },
 "nbformat": 4,
 "nbformat_minor": 5
}
