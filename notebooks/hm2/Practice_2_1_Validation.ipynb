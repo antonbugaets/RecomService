{
 "cells": [
  {
   "cell_type": "markdown",
   "id": "056df6e9",
   "metadata": {},
   "source": [
    "# Валидация"
   ]
  },
  {
   "cell_type": "markdown",
   "id": "cc0115e6",
   "metadata": {},
   "source": [
    "## Imports"
   ]
  },
  {
   "cell_type": "code",
   "execution_count": 1,
   "id": "2df35e7f",
   "metadata": {},
   "outputs": [],
   "source": [
    "import numpy as np\n",
    "import pandas as pd\n",
    "from rectools import Columns"
   ]
  },
  {
   "cell_type": "code",
   "execution_count": 2,
   "id": "e98ffc37",
   "metadata": {
    "ExecuteTime": {
     "end_time": "2022-11-16T13:17:45.251478Z",
     "start_time": "2022-11-16T13:17:45.238476Z"
    }
   },
   "outputs": [],
   "source": [
    "class UsersKFoldPOut():\n",
    "    def __init__(self, n_folds, p, user_column=Columns.User, random_seed=23):\n",
    "        self.n_folds = n_folds\n",
    "        self.p = p\n",
    "        self.user_column = user_column\n",
    "        self.random_seed = random_seed\n",
    "    \n",
    "    def split(self, df):\n",
    "        df['target'] = df['order'] < self.p\n",
    "        users = df[self.user_column].unique()\n",
    "        users_count = len(users)\n",
    "\n",
    "        np.random.seed(self.random_seed)\n",
    "        np.random.shuffle(users)\n",
    "        \n",
    "        fold_sizes = np.full(self.n_folds, users_count // self.n_folds, dtype=int)\n",
    "        fold_sizes[: users_count % self.n_folds] += 1\n",
    "        current = 0\n",
    "        for fold_size in fold_sizes:\n",
    "            start, stop = current, current + fold_size\n",
    "            test_fold_users = users[start:stop]\n",
    "\n",
    "            test_mask = df[self.user_column].isin(test_fold_users) & df['target']\n",
    "            train_mask = ~df[self.user_column].isin(test_fold_users)\n",
    "            yield train_mask, test_mask"
   ]
  },
  {
   "cell_type": "markdown",
   "id": "9f4b059a",
   "metadata": {},
   "source": [
    "## Read data\n",
    "\n",
    "Данные - https://disk.yandex.ru/d/SI1aAooPn9i8TA"
   ]
  },
  {
   "cell_type": "code",
   "execution_count": 3,
   "id": "01c964ac",
   "metadata": {},
   "outputs": [
    {
     "name": "stdout",
     "output_type": "stream",
     "text": [
      "Archive:  likes_data.zip\n",
      "  inflating: test                    \n",
      "  inflating: __MACOSX/._test         \n",
      "  inflating: track_artists.csv       \n",
      "  inflating: train                   \n",
      "  inflating: __MACOSX/._train        \n"
     ]
    }
   ],
   "source": [
    "!unzip -o likes_data.zip"
   ]
  },
  {
   "cell_type": "code",
   "execution_count": 4,
   "id": "1f192d58",
   "metadata": {},
   "outputs": [],
   "source": [
    "with open('train') as f:\n",
    "    train = f.read().split('\\n')[:-1]"
   ]
  },
  {
   "cell_type": "code",
   "execution_count": 5,
   "id": "69ab4bc6",
   "metadata": {},
   "outputs": [],
   "source": [
    "with open('test') as f:\n",
    "    test = f.read().split('\\n')[:-1]"
   ]
  },
  {
   "cell_type": "code",
   "execution_count": 6,
   "id": "f0e4fb53",
   "metadata": {},
   "outputs": [],
   "source": [
    "def generate_item_sequence(record_id, record):\n",
    "    items = list(map(int, record.split(' ')[::-1]))\n",
    "    return (\n",
    "        [record_id] * len(items),\n",
    "        items,\n",
    "        list(range(len(items))),\n",
    "    )"
   ]
  },
  {
   "cell_type": "code",
   "execution_count": 7,
   "id": "349e6d7c",
   "metadata": {},
   "outputs": [],
   "source": [
    "common = train + test\n",
    "\n",
    "with open('interim.csv', 'w') as interim_file:\n",
    "    for i in range(len(common)):\n",
    "        users, items, orders = generate_item_sequence(i, common[i])\n",
    "        for user, item, order in zip(users, items, orders):\n",
    "            interim_file.write(\n",
    "                '{0},{1},{2}\\n'.format(\n",
    "                    user, item, order,\n",
    "                ),\n",
    "            )\n",
    "\n",
    "del common, train, test"
   ]
  },
  {
   "cell_type": "code",
   "execution_count": 8,
   "id": "ac4e7623",
   "metadata": {},
   "outputs": [],
   "source": [
    "df_common = pd.read_csv(\n",
    "    'interim.csv',\n",
    "    dtype=np.int32,\n",
    "    header=None,\n",
    "    names=[Columns.User, Columns.Item, 'order'],\n",
    ")"
   ]
  },
  {
   "cell_type": "markdown",
   "id": "1709f82f",
   "metadata": {},
   "source": [
    "<hr />"
   ]
  },
  {
   "cell_type": "code",
   "execution_count": 9,
   "id": "ef4e74be",
   "metadata": {
    "ExecuteTime": {
     "end_time": "2022-11-16T13:17:45.267474Z",
     "start_time": "2022-11-16T13:17:45.254478Z"
    }
   },
   "outputs": [
    {
     "name": "stdout",
     "output_type": "stream",
     "text": [
      "Fold#0 | Train: 78277333, Test: 966666\n",
      "Fold#1 | Train: 78277333, Test: 966666\n",
      "Fold#2 | Train: 78277584, Test: 966664\n"
     ]
    }
   ],
   "source": [
    "cv = UsersKFoldPOut(n_folds=3, p=2)\n",
    "\n",
    "for i, (train_mask, test_mask) in enumerate(cv.split(df_common)):\n",
    "    train = df_common[train_mask]\n",
    "    test = df_common[test_mask]\n",
    "    # Проверим корректность работы\n",
    "    common_users = set(train[cv.user_column].unique()).intersection(\n",
    "        set(test[cv.user_column].unique()),\n",
    "    )\n",
    "    # Между test и train нет общих пользователей\n",
    "    assert len(common_users) == 0\n",
    "    # Количество записей для пользователя в test не больше p\n",
    "    np.all(test.groupby(cv.user_column).size() <= cv.p)\n",
    "    \n",
    "    print(f'Fold#{i} | Train: {train.shape[0]}, Test: {test.shape[0]}')"
   ]
  }
 ],
 "metadata": {
  "kernelspec": {
   "display_name": "Python 3 (ipykernel)",
   "language": "python",
   "name": "python3"
  },
  "language_info": {
   "codemirror_mode": {
    "name": "ipython",
    "version": 3
   },
   "file_extension": ".py",
   "mimetype": "text/x-python",
   "name": "python",
   "nbconvert_exporter": "python",
   "pygments_lexer": "ipython3",
   "version": "3.8.13"
  },
  "toc": {
   "base_numbering": 1,
   "nav_menu": {},
   "number_sections": true,
   "sideBar": true,
   "skip_h1_title": true,
   "title_cell": "Table of Contents",
   "title_sidebar": "Contents",
   "toc_cell": false,
   "toc_position": {
    "height": "calc(100% - 180px)",
    "left": "10px",
    "top": "150px",
    "width": "207px"
   },
   "toc_section_display": true,
   "toc_window_display": true
  },
  "vscode": {
   "interpreter": {
    "hash": "b28d1757a790fe3d6efa9e52fbe864a6198183c15b8fda8f4648b02f4e9cb71c"
   }
  }
 },
 "nbformat": 4,
 "nbformat_minor": 5
}
