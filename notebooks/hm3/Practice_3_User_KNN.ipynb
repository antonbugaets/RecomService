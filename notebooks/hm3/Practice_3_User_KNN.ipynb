{
 "cells": [
  {
   "cell_type": "code",
   "execution_count": 1,
   "id": "2e09d0c0",
   "metadata": {},
   "outputs": [],
   "source": [
    "import os\n",
    "import pickle\n",
    "import warnings\n",
    "from collections import Counter\n",
    "from typing import Dict, List, Optional, Tuple, Type, TypeVar\n",
    "\n",
    "import numpy as np\n",
    "import optuna\n",
    "import pandas as pd\n",
    "import requests\n",
    "import scipy as sp\n",
    "from implicit.nearest_neighbours import (\n",
    "    CosineRecommender,\n",
    "    ItemItemRecommender,\n",
    "    TFIDFRecommender,\n",
    ")\n",
    "from rectools import Columns\n",
    "from rectools.dataset import Dataset\n",
    "from rectools.metrics import MAP, calc_metrics\n",
    "from rectools.model_selection import TimeRangeSplit\n",
    "from rectools.models.popular import PopularModel\n",
    "from tqdm.auto import tqdm"
   ]
  },
  {
   "cell_type": "code",
   "execution_count": 2,
   "id": "bfcd39e1",
   "metadata": {},
   "outputs": [],
   "source": [
    "warnings.filterwarnings('ignore')"
   ]
  },
  {
   "cell_type": "code",
   "execution_count": 3,
   "id": "605a16e3",
   "metadata": {},
   "outputs": [],
   "source": [
    "np.random.seed(42)"
   ]
  },
  {
   "cell_type": "markdown",
   "id": "5124819c",
   "metadata": {},
   "source": [
    "# Get KION dataset"
   ]
  },
  {
   "cell_type": "code",
   "execution_count": 4,
   "id": "06b032d6",
   "metadata": {},
   "outputs": [
    {
     "data": {
      "application/vnd.jupyter.widget-view+json": {
       "model_id": "0a178005b2c344dcb99cb602ecabb42f",
       "version_major": 2,
       "version_minor": 0
      },
      "text/plain": [
       "kion dataset download:   0%|          | 0.00/78.8M [00:00<?, ?iB/s]"
      ]
     },
     "metadata": {},
     "output_type": "display_data"
    }
   ],
   "source": [
    "# download dataset by chunks\n",
    "url = (\n",
    "    'https://storage.yandexcloud.net/'\n",
    "    'itmo-recsys-public-data/kion_train.zip'\n",
    ")\n",
    "\n",
    "req = requests.get(url, stream=True)\n",
    "\n",
    "with open('kion_train.zip', 'wb') as fd:\n",
    "    total_size_in_bytes = int(req.headers.get('Content-Length', 0))\n",
    "    progress_bar = tqdm(\n",
    "        desc='kion dataset download',\n",
    "        total=total_size_in_bytes,\n",
    "        unit='iB',\n",
    "        unit_scale=True,\n",
    "    )\n",
    "    for chunk in req.iter_content(chunk_size=2 ** 20):\n",
    "        progress_bar.update(len(chunk))\n",
    "        fd.write(chunk)"
   ]
  },
  {
   "cell_type": "code",
   "execution_count": 5,
   "id": "82919457",
   "metadata": {},
   "outputs": [
    {
     "name": "stdout",
     "output_type": "stream",
     "text": [
      "Archive:  kion_train.zip\n",
      "  inflating: kion_train/interactions.csv  \n",
      "  inflating: __MACOSX/kion_train/._interactions.csv  \n",
      "  inflating: kion_train/users.csv    \n",
      "  inflating: __MACOSX/kion_train/._users.csv  \n",
      "  inflating: kion_train/items.csv    \n",
      "  inflating: __MACOSX/kion_train/._items.csv  \n"
     ]
    }
   ],
   "source": [
    "!unzip -o kion_train.zip"
   ]
  },
  {
   "cell_type": "markdown",
   "id": "284dfacf",
   "metadata": {},
   "source": [
    "# Get Kinopoisk dataset\n",
    "\n",
    "https://www.kaggle.com/datasets/alexandertesemnikov/kinopoisktop250russiandataset"
   ]
  },
  {
   "cell_type": "code",
   "execution_count": 6,
   "id": "6a1ebed6",
   "metadata": {},
   "outputs": [
    {
     "name": "stdout",
     "output_type": "stream",
     "text": [
      "Archive:  archive.zip\r\n",
      "  inflating: kinopoisk-top250.csv    \r\n"
     ]
    }
   ],
   "source": [
    "!unzip -o archive.zip"
   ]
  },
  {
   "cell_type": "markdown",
   "id": "3490a6f4",
   "metadata": {},
   "source": [
    "# Model"
   ]
  },
  {
   "cell_type": "code",
   "execution_count": 7,
   "id": "f33fdf7f",
   "metadata": {},
   "outputs": [],
   "source": [
    "T = TypeVar('T', bound='UserKnn')\n",
    "Mapping = Dict[int, int]\n",
    "\n",
    "\n",
    "class UserKnn(object):\n",
    "    \"\"\"User KNN model.\"\"\"\n",
    "    attrs_to_save = [\n",
    "        'user_knn',\n",
    "        'k_users',\n",
    "        'cold_user_threshold',\n",
    "        'cold_item_threshold',\n",
    "        'popular',\n",
    "        'user_column',\n",
    "        'item_column',\n",
    "        'weight_column',\n",
    "        'ranking',\n",
    "        'interactions',\n",
    "    ]\n",
    "\n",
    "    def __init__(\n",
    "        self,\n",
    "        user_knn: ItemItemRecommender,\n",
    "        k_users: int,\n",
    "        cold_user_threshold: int,\n",
    "        cold_item_threshold: int,\n",
    "        popular: pd.DataFrame,\n",
    "        user_column: str = 'user_id',\n",
    "        item_column: str = 'item_id',\n",
    "        weight_column: Optional[str] = None,\n",
    "        ranking: str = 'max',\n",
    "    ):\n",
    "        \"\"\"Create user KNN model.\n",
    "\n",
    "        Args:\n",
    "            user_knn: Base user knn to use.\n",
    "            k_users: KNN parameter.\n",
    "            cold_user_threshold: Number of interactions threshold for users.\n",
    "            cold_item_threshold: Number of interactions threshold for items.\n",
    "            popular: List with popular items.\n",
    "            user_column: User column in dataset.\n",
    "            item_column: Item column in dataset.\n",
    "            weight_column: Weight column in dataset.\n",
    "            ranking: Agg function to user for item scores.\n",
    "        \"\"\"\n",
    "        self.user_knn = user_knn\n",
    "        self.k_users = k_users\n",
    "        self.cold_user_threshold = cold_user_threshold\n",
    "        self.cold_item_threshold = cold_item_threshold\n",
    "        self.popular = popular\n",
    "        self.user_column = user_column\n",
    "        self.item_column = item_column\n",
    "        self.weight_column = weight_column\n",
    "        self.ranking = ranking\n",
    "        self.interactions = pd.DataFrame()\n",
    "        self._watched = pd.Series(dtype=int)\n",
    "        self._item_idf = pd.DataFrame()\n",
    "        self._users_mapping: Mapping = {}\n",
    "        self._users_inv_mapping: Mapping = {}\n",
    "        self._items_mapping: Mapping = {}\n",
    "        self._items_inv_mapping: Mapping = {}\n",
    "        self.is_fitted = False\n",
    "\n",
    "    def fit(self, interactions: pd.DataFrame) -> None:\n",
    "        \"\"\"Train model.\n",
    "\n",
    "        Args:\n",
    "            interactions: Dataset for training on.\n",
    "        \"\"\"\n",
    "        # Удаляем холодные записи.\n",
    "        interactions = self._filter(interactions)\n",
    "        self._preprocess(interactions)\n",
    "        interaction_matrix = self._get_interaction_matrix(\n",
    "            self.interactions,\n",
    "        )\n",
    "\n",
    "        self.user_knn.fit(interaction_matrix)\n",
    "        self.is_fitted = True\n",
    "\n",
    "    def predict(\n",
    "        self, user_id: int, k_recs: int = 10,\n",
    "    ) -> List[int]:\n",
    "        \"\"\"Predict recommendations for user with given ID.\n",
    "\n",
    "        Args:\n",
    "            user_id: User ID.\n",
    "            k_recs: Number of recommendations.\n",
    "\n",
    "        Returns:\n",
    "            List of item IDs.\n",
    "        \"\"\"\n",
    "        if not self.is_fitted:\n",
    "            raise ValueError(\n",
    "                'Model not fitted, call fit before predicting.',\n",
    "            )\n",
    "        user_watched = []\n",
    "        if user_id in self._watched:\n",
    "            user_watched = self._watched.loc[user_id]\n",
    "        if len(user_watched) >= self.cold_user_threshold:\n",
    "            similar_user_ids, scores = self._get_similar_users(\n",
    "                user_id, self.k_users,\n",
    "            )\n",
    "            recs = pd.DataFrame(\n",
    "                {\n",
    "                    self.user_column: similar_user_ids,\n",
    "                    self.item_column: self._watched.loc[\n",
    "                        similar_user_ids].values,\n",
    "                    'score': scores,\n",
    "                },\n",
    "            )\n",
    "\n",
    "            recs = recs.explode(self.item_column)\n",
    "            # Применяем аггрегирующую функцию к скорам\n",
    "            recs['agg_score'] = recs.groupby(\n",
    "                self.item_column,\n",
    "            )['score'].transform(self.ranking)\n",
    "            recs = recs.sort_values(\n",
    "                'agg_score', ascending=False,\n",
    "            ).drop_duplicates(\n",
    "                self.item_column,\n",
    "            ).merge(\n",
    "                self._item_idf,\n",
    "                left_on=self.item_column,\n",
    "                right_on='index',\n",
    "                how='left',\n",
    "            )\n",
    "            # Домножаем на значение IDF\n",
    "            recs['agg_score'] *= recs['idf']\n",
    "            recs.sort_values(\n",
    "                'agg_score', ascending=False, inplace=True,\n",
    "            )\n",
    "            # Дополняем рекомендации популярным\n",
    "            recs = pd.concat([recs, self.popular]).drop_duplicates(\n",
    "                self.item_column,\n",
    "            )\n",
    "            # Убираем из списка то, что пользователь уже смотрел\n",
    "            mask = recs[self.item_column].isin(user_watched)\n",
    "            recs = recs[~mask]\n",
    "        else:\n",
    "            # Для холодных пользователей рекомендуем популярное\n",
    "            # Убираем из списка то, что пользователь уже смотрел\n",
    "            mask = self.popular[self.item_column].isin(user_watched)\n",
    "            recs = self.popular[~mask]\n",
    "        recs = recs.copy()\n",
    "        recs['rank'] = np.arange(1, len(recs) + 1)\n",
    "        return recs[recs['rank'] <= k_recs][self.item_column].tolist()\n",
    "\n",
    "    @classmethod\n",
    "    def load(cls: Type[T], dirpath: str) -> T:\n",
    "        \"\"\"Load model state.\n",
    "\n",
    "        Args:\n",
    "            dirpath: Path to the dir with the saved model.\n",
    "\n",
    "        Returns:\n",
    "            Loaded model.\n",
    "        \"\"\"\n",
    "        attrs_dict = {}\n",
    "        for attr_name in cls.attrs_to_save:\n",
    "            attr_filepath = os.path.join(\n",
    "                dirpath, '{0}.pickle'.format(attr_name),\n",
    "            )\n",
    "            with open(attr_filepath, 'rb') as attr_file:\n",
    "                attr_value = pickle.load(attr_file)\n",
    "            attrs_dict[attr_name] = attr_value\n",
    "        interactions = attrs_dict.pop('interactions')\n",
    "        model = cls(**attrs_dict)\n",
    "        model._preprocess(interactions)\n",
    "        model.is_fitted = True\n",
    "        return model\n",
    "\n",
    "    def save(self, dirpath: str) -> None:\n",
    "        \"\"\"Save model state.\n",
    "\n",
    "        Args:\n",
    "            dirpath: Path to the dir to save the model.\n",
    "        \"\"\"\n",
    "        if not os.path.isdir(dirpath):\n",
    "            os.makedirs(dirpath, exist_ok=True)\n",
    "        for attr_name in self.attrs_to_save:\n",
    "            attr_filepath = os.path.join(\n",
    "                dirpath, '{0}.pickle'.format(attr_name),\n",
    "            )\n",
    "            with open(attr_filepath, 'wb') as attr_file:\n",
    "                attr_value = getattr(self, attr_name)\n",
    "                pickle.dump(attr_value, attr_file)\n",
    "\n",
    "    def _preprocess(self, interactions: pd.DataFrame) -> None:\n",
    "        \"\"\"Preprocess interactions dataset and set it as an attribute.\n",
    "\n",
    "        Args:\n",
    "            interactions: Dataset with interactions.\n",
    "        \"\"\"\n",
    "        self.interactions = interactions\n",
    "        self._build_watched(self.interactions)\n",
    "        self._build_mappings(self.interactions)\n",
    "        self._calculate_item_idf(self.interactions)\n",
    "\n",
    "    def _filter(self, interactions: pd.DataFrame) -> pd.DataFrame:\n",
    "        \"\"\"Filter cold users and cold items.\n",
    "\n",
    "        Args:\n",
    "            interactions: Dataset with interactions.\n",
    "\n",
    "        Returns:\n",
    "            Filtered dataset.\n",
    "        \"\"\"\n",
    "        interactions = interactions.groupby(self.item_column).filter(\n",
    "            lambda x: len(x) >= self.cold_item_threshold,\n",
    "        )\n",
    "        interactions = interactions.groupby(self.user_column).filter(\n",
    "            lambda x: len(x) >= self.cold_user_threshold,\n",
    "        )\n",
    "        return interactions\n",
    "\n",
    "    def _get_interaction_matrix(\n",
    "        self, interactions: pd.DataFrame,\n",
    "    ) -> sp.sparse.coo_matrix:\n",
    "        \"\"\"Get interaction matrix from data frame.\n",
    "\n",
    "        Args:\n",
    "            interactions: Dataset with interactions.\n",
    "\n",
    "        Returns:\n",
    "            Sparse matrix with data from interactions.\n",
    "        \"\"\"\n",
    "        if self.weight_column:\n",
    "            weights = interactions[self.weight_column].astype(np.float32)\n",
    "        else:\n",
    "            weights = np.ones(len(interactions), dtype=np.float32)\n",
    "\n",
    "        n_items = len(interactions[self.item_column].unique())\n",
    "        n_users = len(interactions[self.user_column].unique())\n",
    "\n",
    "        return sp.sparse.coo_matrix(\n",
    "            (\n",
    "                weights,\n",
    "                (\n",
    "                    interactions[self.item_column].map(\n",
    "                        self._items_mapping.get,\n",
    "                    ),\n",
    "                    interactions[self.user_column].map(\n",
    "                        self._users_mapping.get,\n",
    "                    ),\n",
    "                ),\n",
    "            ),\n",
    "            shape=(n_items, n_users),\n",
    "        )\n",
    "\n",
    "    def _calculate_item_idf(self, interactions: pd.DataFrame) -> None:\n",
    "        \"\"\"Calculate items IDF.\n",
    "\n",
    "        Args:\n",
    "            interactions: Dataset with interactions.\n",
    "\n",
    "        Returns:\n",
    "            Calculated IDF for each item.\n",
    "        \"\"\"\n",
    "        item_idf = pd.DataFrame.from_dict(\n",
    "            Counter(interactions[self.item_column].values),\n",
    "            orient='index',\n",
    "            columns=['doc_freq'],\n",
    "        ).reset_index()\n",
    "        item_idf['idf'] = item_idf['doc_freq'].apply(\n",
    "            lambda x: self._idf(len(interactions), x),\n",
    "        )\n",
    "        self._item_idf = item_idf\n",
    "\n",
    "    def _idf(self, n: int, x: float) -> float:\n",
    "        \"\"\"Calculate IDF.\n",
    "\n",
    "        Args:\n",
    "            n: Number of items.\n",
    "            x: Number of item occurrences.\n",
    "\n",
    "        Returns:\n",
    "            IDF value.\n",
    "        \"\"\"\n",
    "        return np.log((1 + n) / (1 + x) + 1)\n",
    "\n",
    "    def _build_mappings(self, interactions: pd.DataFrame) -> None:\n",
    "        \"\"\"Build mappings for IDs.\n",
    "\n",
    "        Args:\n",
    "            interactions: Dataset with interactions.\n",
    "        \"\"\"\n",
    "        self._users_inv_mapping = dict(\n",
    "            enumerate(interactions[self.user_column].unique()),\n",
    "        )\n",
    "        self._users_mapping = {\n",
    "            v: k for k, v in self._users_inv_mapping.items()\n",
    "        }\n",
    "\n",
    "        self._items_inv_mapping = dict(\n",
    "            enumerate(interactions[self.item_column].unique()),\n",
    "        )\n",
    "        self._items_mapping = {\n",
    "            v: k for k, v in self._items_inv_mapping.items()\n",
    "        }\n",
    "\n",
    "    def _build_watched(self, interactions: pd.DataFrame) -> None:\n",
    "        \"\"\"Build watch lists for each user.\n",
    "\n",
    "        Args:\n",
    "            interactions: Dataset with interactions.\n",
    "        \"\"\"\n",
    "        user_groups = interactions.groupby(self.user_column)\n",
    "        self._watched = user_groups[self.item_column].apply(list)\n",
    "\n",
    "    def _get_similar_users(\n",
    "        self, user_id: int, k_users: int,\n",
    "    ) -> Tuple[List[int], List[float]]:\n",
    "        \"\"\"Get similar users with KNN model.\n",
    "\n",
    "        Args:\n",
    "            user_id: Query user ID.\n",
    "            k_users: Number of similar users to get.\n",
    "\n",
    "        Returns:\n",
    "            List of similar user IDs and similarity scores.\n",
    "        \"\"\"\n",
    "        user_knn_user_id = self._users_mapping[user_id]\n",
    "        similar_user_ids, scores = self.user_knn.similar_items(\n",
    "            user_knn_user_id, N=k_users,\n",
    "        )\n",
    "        return (\n",
    "            list(map(self._users_inv_mapping.get, similar_user_ids)),\n",
    "            scores,\n",
    "        )"
   ]
  },
  {
   "cell_type": "markdown",
   "id": "e366dd48",
   "metadata": {},
   "source": [
    "# Read data"
   ]
  },
  {
   "cell_type": "code",
   "execution_count": 8,
   "id": "15179494",
   "metadata": {},
   "outputs": [],
   "source": [
    "def read_data():\n",
    "    interactions = pd.read_csv('kion_train/interactions.csv')\n",
    "    users = pd.read_csv('kion_train/users.csv')\n",
    "    items = pd.read_csv('kion_train/items.csv')\n",
    "\n",
    "    interactions.rename(\n",
    "        columns={\n",
    "            'last_watch_dt': Columns.Datetime,\n",
    "            'total_dur': Columns.Weight,\n",
    "            'watched_pct': 'weight_norm',\n",
    "        },\n",
    "        inplace=True,\n",
    "    )\n",
    "\n",
    "    interactions[Columns.Datetime] = pd.to_datetime(interactions[Columns.Datetime])\n",
    "    \n",
    "    return interactions, users, items"
   ]
  },
  {
   "cell_type": "code",
   "execution_count": 9,
   "id": "6f430f0f",
   "metadata": {},
   "outputs": [],
   "source": [
    "interactions, users, items = read_data()"
   ]
  },
  {
   "cell_type": "markdown",
   "id": "239af801",
   "metadata": {},
   "source": [
    "# Get popular"
   ]
  },
  {
   "cell_type": "code",
   "execution_count": 10,
   "id": "6025ec62",
   "metadata": {},
   "outputs": [],
   "source": [
    "kinopoisk = pd.read_csv(\n",
    "    'kinopoisk-top250.csv',\n",
    ").rename(columns={'movie': 'title'})\n",
    "kinopoisk['title'] = kinopoisk['title'].apply(lambda title: title.strip())"
   ]
  },
  {
   "cell_type": "code",
   "execution_count": 11,
   "id": "b70c0806",
   "metadata": {
    "scrolled": true
   },
   "outputs": [],
   "source": [
    "# Оставим в популярном КП только фильмы, которые есть библиотеке KION\n",
    "popular_kinopoisk = items.merge(\n",
    "    kinopoisk, on='title',\n",
    ").sort_values(\n",
    "    by='rating',\n",
    ")[Columns.Item].to_frame()"
   ]
  },
  {
   "cell_type": "code",
   "execution_count": 12,
   "id": "5d2778af",
   "metadata": {},
   "outputs": [],
   "source": [
    "dataset = Dataset.construct(\n",
    "    interactions_df=interactions,\n",
    "    user_features_df=None,\n",
    "    item_features_df=None,\n",
    ")\n",
    "\n",
    "pop = PopularModel()\n",
    "pop.fit(dataset)\n",
    "\n",
    "# Получим популярное KION\n",
    "popular_kion = pop.recommend(\n",
    "    dataset.user_id_map.external_ids[:1], \n",
    "    dataset=dataset, \n",
    "    k=len(popular_kinopoisk), \n",
    "    filter_viewed=False,\n",
    ")[Columns.Item].to_frame()"
   ]
  },
  {
   "cell_type": "code",
   "execution_count": 13,
   "id": "a5d2df7c",
   "metadata": {},
   "outputs": [],
   "source": [
    "# Объединим списки популярного через 1\n",
    "popular_common = []\n",
    "for pair in zip(popular_kinopoisk[Columns.Item], popular_kion[Columns.Item]):\n",
    "    popular_common.extend(pair)\n",
    "popular = pd.DataFrame({Columns.Item: popular_common}).drop_duplicates()"
   ]
  },
  {
   "cell_type": "markdown",
   "id": "7918a6a6",
   "metadata": {},
   "source": [
    "# User sample"
   ]
  },
  {
   "cell_type": "code",
   "execution_count": 14,
   "id": "99b35dc3",
   "metadata": {},
   "outputs": [],
   "source": [
    "# Для кросс-валидации возьмем только часть пользователей\n",
    "sample_fraction = 0.33\n",
    "users = interactions['user_id'].unique()\n",
    "size = int(sample_fraction * len(users))\n",
    "users_sample = np.random.choice(users, size=size, replace=False)\n",
    "\n",
    "interactions = interactions[interactions[Columns.User].isin(users_sample)]"
   ]
  },
  {
   "cell_type": "markdown",
   "id": "1229eaee",
   "metadata": {},
   "source": [
    "# CV"
   ]
  },
  {
   "cell_type": "code",
   "execution_count": 15,
   "id": "7b99fcd5",
   "metadata": {},
   "outputs": [],
   "source": [
    "def get_cv_splitter(\n",
    "    last_date,\n",
    "    n_folds,\n",
    "    unit,\n",
    "    n_units,\n",
    "    filter_cold_users,\n",
    "    filter_cold_items,\n",
    "    filter_already_seen,\n",
    "):\n",
    "    start_date = last_date - pd.Timedelta(n_folds * n_units + 1, unit=unit)  \n",
    "    periods = n_folds + 1\n",
    "    freq = f'{n_units}{unit}'\n",
    "    date_range = pd.date_range(\n",
    "        start=start_date, periods=periods, freq=freq, tz=last_date.tz,\n",
    "    )\n",
    "    return TimeRangeSplit(\n",
    "        date_range=date_range,\n",
    "        filter_cold_users=filter_cold_users,\n",
    "        filter_cold_items=filter_cold_items,\n",
    "        filter_already_seen=filter_already_seen,\n",
    "    )"
   ]
  },
  {
   "cell_type": "markdown",
   "id": "20b811b2",
   "metadata": {},
   "source": [
    "# Hyperparameter optimization"
   ]
  },
  {
   "cell_type": "code",
   "execution_count": 16,
   "id": "c5d63354",
   "metadata": {},
   "outputs": [],
   "source": [
    "def select_params(trial):\n",
    "    # Подберем тип модели user knn\n",
    "    user_knn_name = trial.suggest_categorical(\n",
    "        'user_knn', ['tf_idf', 'cosine'],\n",
    "    )\n",
    "    if user_knn_name == 'tf_idf':\n",
    "        user_knn = TFIDFRecommender()\n",
    "    else:\n",
    "        user_knn = CosineRecommender()\n",
    "    # Подберем количество соседей\n",
    "    k_users = trial.suggest_int(\n",
    "        'k_users', 10, 150,\n",
    "    )\n",
    "    # Подберем порог для определния холодных пользователей\n",
    "    cold_user_threshold = trial.suggest_int(\n",
    "        'cold_user_threshold', 1, 5,\n",
    "    )\n",
    "    # Подберем порог для определния холодных айтемов\n",
    "    cold_item_threshold = trial.suggest_int(\n",
    "        'cold_item_threshold', 1, 5,\n",
    "    )\n",
    "    # Подберем множество популярного\n",
    "    popular_name = trial.suggest_categorical(\n",
    "        'popular', ['merged', 'kion'],\n",
    "    )\n",
    "    if popular_name == 'merged':\n",
    "        popular_set = popular\n",
    "    else:\n",
    "        popular_set = popular_kion\n",
    "    # Подберем стобец, который будет использоваться в качестве веса\n",
    "    weight_column = trial.suggest_categorical(\n",
    "        'weight_column', ['weight', 'weight_norm'],\n",
    "    )\n",
    "    # Подберем способ ранжирования\n",
    "    ranking = trial.suggest_categorical(\n",
    "        'ranking', ['max', 'mean'],\n",
    "    )\n",
    "    \n",
    "    return {\n",
    "        'user_knn': user_knn,\n",
    "        'k_users': k_users,\n",
    "        'cold_user_threshold': cold_user_threshold,\n",
    "        'cold_item_threshold': cold_item_threshold,\n",
    "        'popular': popular_set,\n",
    "        'weight_column': weight_column,\n",
    "        'ranking': ranking,\n",
    "    }"
   ]
  },
  {
   "cell_type": "code",
   "execution_count": 17,
   "id": "ac5c308d",
   "metadata": {},
   "outputs": [],
   "source": [
    "def objective(trial):\n",
    "    last_date = interactions[Columns.Datetime].max().normalize()\n",
    "    \n",
    "    cv = get_cv_splitter(\n",
    "        last_date=last_date,\n",
    "        n_folds=3,\n",
    "        unit='D',\n",
    "        n_units=5,\n",
    "        filter_cold_users=False,\n",
    "        filter_cold_items=True,\n",
    "        filter_already_seen=True,\n",
    "    )\n",
    "    \n",
    "    metrics = {'map@10': MAP(k=10)}\n",
    "    \n",
    "    fold_iterator = cv.split(interactions, collect_fold_stats=True)\n",
    "    scores = []\n",
    "    for fold_idx, (train_ids, test_ids, fold_info) in enumerate(fold_iterator):\n",
    "    \n",
    "        df_train = interactions.iloc[train_ids].copy()\n",
    "        df_test = interactions.iloc[test_ids][Columns.UserItem].copy()\n",
    "\n",
    "        catalog = df_train[Columns.Item].unique()\n",
    "        \n",
    "        params = select_params(trial)\n",
    "        \n",
    "        model = UserKnn(**params)\n",
    "        \n",
    "        model.fit(df_train)\n",
    "        \n",
    "        users, items, ranks = [], [], []\n",
    "        \n",
    "        for user_id in df_test[Columns.User].unique():\n",
    "            user_recs = model.predict(user_id)\n",
    "            k_recs = len(user_recs)\n",
    "            users.extend([user_id] * k_recs)\n",
    "            items.extend(user_recs)\n",
    "            ranks.extend(np.arange(1, k_recs + 1))\n",
    "            \n",
    "        recs = pd.DataFrame(\n",
    "            {\n",
    "                Columns.User: users,\n",
    "                Columns.Item: items,\n",
    "                Columns.Rank: ranks,\n",
    "            },\n",
    "        )\n",
    "        \n",
    "        metric_values = calc_metrics(\n",
    "            metrics,\n",
    "            reco=recs,\n",
    "            interactions=df_test,\n",
    "            prev_interactions=df_train,\n",
    "            catalog=catalog,\n",
    "        )\n",
    "        score = metric_values['map@10']\n",
    "        \n",
    "        trial.report(score, fold_idx)\n",
    "        if trial.should_prune():\n",
    "            raise optuna.TrialPruned()\n",
    "            \n",
    "        scores.append(score)\n",
    "        \n",
    "    return np.mean(scores)"
   ]
  },
  {
   "cell_type": "code",
   "execution_count": 18,
   "id": "330353d6",
   "metadata": {},
   "outputs": [
    {
     "name": "stderr",
     "output_type": "stream",
     "text": [
      "\u001b[32m[I 2022-12-09 20:50:54,071]\u001b[0m A new study created in memory with name: no-name-244cf884-0cf6-40fc-af15-0a14e20235fb\u001b[0m\n"
     ]
    },
    {
     "data": {
      "application/vnd.jupyter.widget-view+json": {
       "model_id": "132914fde4914fc49d31cceb5bf65849",
       "version_major": 2,
       "version_minor": 0
      },
      "text/plain": [
       "  0%|          | 0/101134 [00:00<?, ?it/s]"
      ]
     },
     "metadata": {},
     "output_type": "display_data"
    },
    {
     "data": {
      "application/vnd.jupyter.widget-view+json": {
       "model_id": "d3a9121f0edc4a84aca7e480eb7c9567",
       "version_major": 2,
       "version_minor": 0
      },
      "text/plain": [
       "  0%|          | 0/106747 [00:00<?, ?it/s]"
      ]
     },
     "metadata": {},
     "output_type": "display_data"
    },
    {
     "data": {
      "application/vnd.jupyter.widget-view+json": {
       "model_id": "ddbd947ecc9a4b79afbba5a1687d589e",
       "version_major": 2,
       "version_minor": 0
      },
      "text/plain": [
       "  0%|          | 0/112710 [00:00<?, ?it/s]"
      ]
     },
     "metadata": {},
     "output_type": "display_data"
    },
    {
     "name": "stderr",
     "output_type": "stream",
     "text": [
      "\u001b[32m[I 2022-12-09 21:00:50,514]\u001b[0m Trial 0 finished with value: 0.04301375936666239 and parameters: {'user_knn': 'cosine', 'k_users': 107, 'cold_user_threshold': 4, 'cold_item_threshold': 2, 'popular': 'merged', 'weight_column': 'weight', 'ranking': 'mean'}. Best is trial 0 with value: 0.04301375936666239.\u001b[0m\n"
     ]
    },
    {
     "data": {
      "application/vnd.jupyter.widget-view+json": {
       "model_id": "c346644ac07840bbba70f3b419f2fc4f",
       "version_major": 2,
       "version_minor": 0
      },
      "text/plain": [
       "  0%|          | 0/170718 [00:00<?, ?it/s]"
      ]
     },
     "metadata": {},
     "output_type": "display_data"
    },
    {
     "data": {
      "application/vnd.jupyter.widget-view+json": {
       "model_id": "df3986dc312347a184138b91ff34f89f",
       "version_major": 2,
       "version_minor": 0
      },
      "text/plain": [
       "  0%|          | 0/179153 [00:00<?, ?it/s]"
      ]
     },
     "metadata": {},
     "output_type": "display_data"
    },
    {
     "data": {
      "application/vnd.jupyter.widget-view+json": {
       "model_id": "73d760063a0f44f197f4f6da754fed5a",
       "version_major": 2,
       "version_minor": 0
      },
      "text/plain": [
       "  0%|          | 0/188038 [00:00<?, ?it/s]"
      ]
     },
     "metadata": {},
     "output_type": "display_data"
    },
    {
     "name": "stderr",
     "output_type": "stream",
     "text": [
      "\u001b[32m[I 2022-12-09 21:15:31,330]\u001b[0m Trial 1 finished with value: 0.08104656465130837 and parameters: {'user_knn': 'cosine', 'k_users': 141, 'cold_user_threshold': 2, 'cold_item_threshold': 1, 'popular': 'kion', 'weight_column': 'weight_norm', 'ranking': 'max'}. Best is trial 1 with value: 0.08104656465130837.\u001b[0m\n"
     ]
    },
    {
     "data": {
      "application/vnd.jupyter.widget-view+json": {
       "model_id": "8c745808e2c24eacb6367cc1331b33e6",
       "version_major": 2,
       "version_minor": 0
      },
      "text/plain": [
       "  0%|          | 0/272547 [00:00<?, ?it/s]"
      ]
     },
     "metadata": {},
     "output_type": "display_data"
    },
    {
     "data": {
      "application/vnd.jupyter.widget-view+json": {
       "model_id": "8a2af576e18644d49de9ddfa148f5c66",
       "version_major": 2,
       "version_minor": 0
      },
      "text/plain": [
       "  0%|          | 0/285268 [00:00<?, ?it/s]"
      ]
     },
     "metadata": {},
     "output_type": "display_data"
    },
    {
     "data": {
      "application/vnd.jupyter.widget-view+json": {
       "model_id": "abb67940e13748a8a9e161974bf0f861",
       "version_major": 2,
       "version_minor": 0
      },
      "text/plain": [
       "  0%|          | 0/298903 [00:00<?, ?it/s]"
      ]
     },
     "metadata": {},
     "output_type": "display_data"
    },
    {
     "name": "stderr",
     "output_type": "stream",
     "text": [
      "\u001b[32m[I 2022-12-09 21:33:26,179]\u001b[0m Trial 2 finished with value: 0.09123544203638616 and parameters: {'user_knn': 'tf_idf', 'k_users': 90, 'cold_user_threshold': 1, 'cold_item_threshold': 5, 'popular': 'kion', 'weight_column': 'weight_norm', 'ranking': 'mean'}. Best is trial 2 with value: 0.09123544203638616.\u001b[0m\n"
     ]
    },
    {
     "data": {
      "application/vnd.jupyter.widget-view+json": {
       "model_id": "f84c9f7e9e6943428b5246de253e8bc2",
       "version_major": 2,
       "version_minor": 0
      },
      "text/plain": [
       "  0%|          | 0/101199 [00:00<?, ?it/s]"
      ]
     },
     "metadata": {},
     "output_type": "display_data"
    },
    {
     "data": {
      "application/vnd.jupyter.widget-view+json": {
       "model_id": "b6ad8beae40e4c6c88ba826e1c077940",
       "version_major": 2,
       "version_minor": 0
      },
      "text/plain": [
       "  0%|          | 0/106817 [00:00<?, ?it/s]"
      ]
     },
     "metadata": {},
     "output_type": "display_data"
    },
    {
     "data": {
      "application/vnd.jupyter.widget-view+json": {
       "model_id": "7a7385f8291143d0bae0f63b796140d1",
       "version_major": 2,
       "version_minor": 0
      },
      "text/plain": [
       "  0%|          | 0/112775 [00:00<?, ?it/s]"
      ]
     },
     "metadata": {},
     "output_type": "display_data"
    },
    {
     "name": "stderr",
     "output_type": "stream",
     "text": [
      "\u001b[32m[I 2022-12-09 21:43:42,605]\u001b[0m Trial 3 finished with value: 0.09037402679959715 and parameters: {'user_knn': 'tf_idf', 'k_users': 50, 'cold_user_threshold': 4, 'cold_item_threshold': 1, 'popular': 'kion', 'weight_column': 'weight', 'ranking': 'max'}. Best is trial 2 with value: 0.09123544203638616.\u001b[0m\n"
     ]
    },
    {
     "data": {
      "application/vnd.jupyter.widget-view+json": {
       "model_id": "d32952eb31234fdf9b8da071cc358060",
       "version_major": 2,
       "version_minor": 0
      },
      "text/plain": [
       "  0%|          | 0/272783 [00:00<?, ?it/s]"
      ]
     },
     "metadata": {},
     "output_type": "display_data"
    },
    {
     "data": {
      "application/vnd.jupyter.widget-view+json": {
       "model_id": "c1ef55ca147d4934a7d8ba9c534b1313",
       "version_major": 2,
       "version_minor": 0
      },
      "text/plain": [
       "  0%|          | 0/285495 [00:00<?, ?it/s]"
      ]
     },
     "metadata": {},
     "output_type": "display_data"
    },
    {
     "data": {
      "application/vnd.jupyter.widget-view+json": {
       "model_id": "41dc327d9544475da9b87502a0f85073",
       "version_major": 2,
       "version_minor": 0
      },
      "text/plain": [
       "  0%|          | 0/299129 [00:00<?, ?it/s]"
      ]
     },
     "metadata": {},
     "output_type": "display_data"
    },
    {
     "name": "stderr",
     "output_type": "stream",
     "text": [
      "\u001b[32m[I 2022-12-09 22:02:15,779]\u001b[0m Trial 4 finished with value: 0.04594019287513732 and parameters: {'user_knn': 'tf_idf', 'k_users': 110, 'cold_user_threshold': 1, 'cold_item_threshold': 2, 'popular': 'merged', 'weight_column': 'weight_norm', 'ranking': 'mean'}. Best is trial 2 with value: 0.09123544203638616.\u001b[0m\n"
     ]
    },
    {
     "data": {
      "application/vnd.jupyter.widget-view+json": {
       "model_id": "dc74474f1cad4ee5be373c7f7a17174b",
       "version_major": 2,
       "version_minor": 0
      },
      "text/plain": [
       "  0%|          | 0/170584 [00:00<?, ?it/s]"
      ]
     },
     "metadata": {},
     "output_type": "display_data"
    },
    {
     "name": "stderr",
     "output_type": "stream",
     "text": [
      "\u001b[32m[I 2022-12-09 22:06:39,595]\u001b[0m Trial 5 pruned. \u001b[0m\n"
     ]
    },
    {
     "data": {
      "application/vnd.jupyter.widget-view+json": {
       "model_id": "fa8e5900599043feabe5ad5a864965eb",
       "version_major": 2,
       "version_minor": 0
      },
      "text/plain": [
       "  0%|          | 0/272547 [00:00<?, ?it/s]"
      ]
     },
     "metadata": {},
     "output_type": "display_data"
    },
    {
     "name": "stderr",
     "output_type": "stream",
     "text": [
      "\u001b[32m[I 2022-12-09 22:12:14,958]\u001b[0m Trial 6 pruned. \u001b[0m\n"
     ]
    },
    {
     "data": {
      "application/vnd.jupyter.widget-view+json": {
       "model_id": "a7dfda433d6e4da78dff40196e87c437",
       "version_major": 2,
       "version_minor": 0
      },
      "text/plain": [
       "  0%|          | 0/82724 [00:00<?, ?it/s]"
      ]
     },
     "metadata": {},
     "output_type": "display_data"
    },
    {
     "name": "stderr",
     "output_type": "stream",
     "text": [
      "\u001b[32m[I 2022-12-09 22:14:55,091]\u001b[0m Trial 7 pruned. \u001b[0m\n"
     ]
    },
    {
     "data": {
      "application/vnd.jupyter.widget-view+json": {
       "model_id": "d53b473ef2174581b1fbb101c485520a",
       "version_major": 2,
       "version_minor": 0
      },
      "text/plain": [
       "  0%|          | 0/170443 [00:00<?, ?it/s]"
      ]
     },
     "metadata": {},
     "output_type": "display_data"
    },
    {
     "name": "stderr",
     "output_type": "stream",
     "text": [
      "\u001b[32m[I 2022-12-09 22:19:12,407]\u001b[0m Trial 8 pruned. \u001b[0m\n"
     ]
    },
    {
     "data": {
      "application/vnd.jupyter.widget-view+json": {
       "model_id": "c84975f25aa54219a9f1a22c2299c345",
       "version_major": 2,
       "version_minor": 0
      },
      "text/plain": [
       "  0%|          | 0/272547 [00:00<?, ?it/s]"
      ]
     },
     "metadata": {},
     "output_type": "display_data"
    },
    {
     "name": "stderr",
     "output_type": "stream",
     "text": [
      "\u001b[32m[I 2022-12-09 22:24:48,241]\u001b[0m Trial 9 pruned. \u001b[0m\n"
     ]
    },
    {
     "data": {
      "application/vnd.jupyter.widget-view+json": {
       "model_id": "fe4403eb50ec41c888b4a891a9e2f826",
       "version_major": 2,
       "version_minor": 0
      },
      "text/plain": [
       "  0%|          | 0/127592 [00:00<?, ?it/s]"
      ]
     },
     "metadata": {},
     "output_type": "display_data"
    },
    {
     "data": {
      "application/vnd.jupyter.widget-view+json": {
       "model_id": "1e7018a74c9d4cc7a33156ed7b28a6a9",
       "version_major": 2,
       "version_minor": 0
      },
      "text/plain": [
       "  0%|          | 0/134366 [00:00<?, ?it/s]"
      ]
     },
     "metadata": {},
     "output_type": "display_data"
    },
    {
     "data": {
      "application/vnd.jupyter.widget-view+json": {
       "model_id": "6b4d955cb5784beea912a8a25e42b9e6",
       "version_major": 2,
       "version_minor": 0
      },
      "text/plain": [
       "  0%|          | 0/141521 [00:00<?, ?it/s]"
      ]
     },
     "metadata": {},
     "output_type": "display_data"
    },
    {
     "name": "stderr",
     "output_type": "stream",
     "text": [
      "\u001b[32m[I 2022-12-09 22:36:08,836]\u001b[0m Trial 10 finished with value: 0.08703230343620173 and parameters: {'user_knn': 'tf_idf', 'k_users': 13, 'cold_user_threshold': 3, 'cold_item_threshold': 4, 'popular': 'kion', 'weight_column': 'weight_norm', 'ranking': 'mean'}. Best is trial 2 with value: 0.09123544203638616.\u001b[0m\n"
     ]
    },
    {
     "data": {
      "application/vnd.jupyter.widget-view+json": {
       "model_id": "38c3e274db274f9ea359498895437092",
       "version_major": 2,
       "version_minor": 0
      },
      "text/plain": [
       "  0%|          | 0/101064 [00:00<?, ?it/s]"
      ]
     },
     "metadata": {},
     "output_type": "display_data"
    },
    {
     "data": {
      "application/vnd.jupyter.widget-view+json": {
       "model_id": "63110511fce94f8c8bc03b930576a52f",
       "version_major": 2,
       "version_minor": 0
      },
      "text/plain": [
       "  0%|          | 0/106675 [00:00<?, ?it/s]"
      ]
     },
     "metadata": {},
     "output_type": "display_data"
    },
    {
     "data": {
      "application/vnd.jupyter.widget-view+json": {
       "model_id": "50eb1c140d69458b9c9966b1a9557bd8",
       "version_major": 2,
       "version_minor": 0
      },
      "text/plain": [
       "  0%|          | 0/112638 [00:00<?, ?it/s]"
      ]
     },
     "metadata": {},
     "output_type": "display_data"
    },
    {
     "name": "stderr",
     "output_type": "stream",
     "text": [
      "\u001b[32m[I 2022-12-09 22:45:55,769]\u001b[0m Trial 11 finished with value: 0.09069593816713019 and parameters: {'user_knn': 'tf_idf', 'k_users': 95, 'cold_user_threshold': 4, 'cold_item_threshold': 3, 'popular': 'kion', 'weight_column': 'weight_norm', 'ranking': 'max'}. Best is trial 2 with value: 0.09123544203638616.\u001b[0m\n"
     ]
    },
    {
     "data": {
      "application/vnd.jupyter.widget-view+json": {
       "model_id": "403ec5e93dc145f298c91bc5af2b8877",
       "version_major": 2,
       "version_minor": 0
      },
      "text/plain": [
       "  0%|          | 0/101064 [00:00<?, ?it/s]"
      ]
     },
     "metadata": {},
     "output_type": "display_data"
    },
    {
     "data": {
      "application/vnd.jupyter.widget-view+json": {
       "model_id": "3507f672a733491381163af8c0c03670",
       "version_major": 2,
       "version_minor": 0
      },
      "text/plain": [
       "  0%|          | 0/106675 [00:00<?, ?it/s]"
      ]
     },
     "metadata": {},
     "output_type": "display_data"
    },
    {
     "data": {
      "application/vnd.jupyter.widget-view+json": {
       "model_id": "13a141c555bf44c38b39e06a27f7b633",
       "version_major": 2,
       "version_minor": 0
      },
      "text/plain": [
       "  0%|          | 0/112638 [00:00<?, ?it/s]"
      ]
     },
     "metadata": {},
     "output_type": "display_data"
    },
    {
     "name": "stderr",
     "output_type": "stream",
     "text": [
      "\u001b[32m[I 2022-12-09 22:55:42,146]\u001b[0m Trial 12 finished with value: 0.09069593816713019 and parameters: {'user_knn': 'tf_idf', 'k_users': 97, 'cold_user_threshold': 4, 'cold_item_threshold': 3, 'popular': 'kion', 'weight_column': 'weight_norm', 'ranking': 'max'}. Best is trial 2 with value: 0.09123544203638616.\u001b[0m\n"
     ]
    },
    {
     "data": {
      "application/vnd.jupyter.widget-view+json": {
       "model_id": "5317126e1d004aaba2c93a1c6361e52b",
       "version_major": 2,
       "version_minor": 0
      },
      "text/plain": [
       "  0%|          | 0/82521 [00:00<?, ?it/s]"
      ]
     },
     "metadata": {},
     "output_type": "display_data"
    },
    {
     "data": {
      "application/vnd.jupyter.widget-view+json": {
       "model_id": "7d2f37eabd6244e2b32b50e89c5bd922",
       "version_major": 2,
       "version_minor": 0
      },
      "text/plain": [
       "  0%|          | 0/87326 [00:00<?, ?it/s]"
      ]
     },
     "metadata": {},
     "output_type": "display_data"
    },
    {
     "data": {
      "application/vnd.jupyter.widget-view+json": {
       "model_id": "d50770d13d5d4605863c9aade517a2b7",
       "version_major": 2,
       "version_minor": 0
      },
      "text/plain": [
       "  0%|          | 0/92433 [00:00<?, ?it/s]"
      ]
     },
     "metadata": {},
     "output_type": "display_data"
    },
    {
     "name": "stderr",
     "output_type": "stream",
     "text": [
      "\u001b[32m[I 2022-12-09 23:03:51,414]\u001b[0m Trial 13 finished with value: 0.09373076819710141 and parameters: {'user_knn': 'tf_idf', 'k_users': 93, 'cold_user_threshold': 5, 'cold_item_threshold': 4, 'popular': 'kion', 'weight_column': 'weight_norm', 'ranking': 'mean'}. Best is trial 13 with value: 0.09373076819710141.\u001b[0m\n"
     ]
    },
    {
     "data": {
      "application/vnd.jupyter.widget-view+json": {
       "model_id": "ca0b785ac63f45aeb5baf2ed6e62e64c",
       "version_major": 2,
       "version_minor": 0
      },
      "text/plain": [
       "  0%|          | 0/82521 [00:00<?, ?it/s]"
      ]
     },
     "metadata": {},
     "output_type": "display_data"
    },
    {
     "data": {
      "application/vnd.jupyter.widget-view+json": {
       "model_id": "41946905b15345168be8d40a5583bcd0",
       "version_major": 2,
       "version_minor": 0
      },
      "text/plain": [
       "  0%|          | 0/87326 [00:00<?, ?it/s]"
      ]
     },
     "metadata": {},
     "output_type": "display_data"
    },
    {
     "data": {
      "application/vnd.jupyter.widget-view+json": {
       "model_id": "2c99fd3ac5334b6cbe4a46c9536a90d8",
       "version_major": 2,
       "version_minor": 0
      },
      "text/plain": [
       "  0%|          | 0/92433 [00:00<?, ?it/s]"
      ]
     },
     "metadata": {},
     "output_type": "display_data"
    },
    {
     "name": "stderr",
     "output_type": "stream",
     "text": [
      "\u001b[32m[I 2022-12-09 23:12:00,419]\u001b[0m Trial 14 finished with value: 0.09373076819710141 and parameters: {'user_knn': 'tf_idf', 'k_users': 122, 'cold_user_threshold': 5, 'cold_item_threshold': 4, 'popular': 'kion', 'weight_column': 'weight_norm', 'ranking': 'mean'}. Best is trial 13 with value: 0.09373076819710141.\u001b[0m\n"
     ]
    },
    {
     "data": {
      "application/vnd.jupyter.widget-view+json": {
       "model_id": "55982f2b22df44638dcd0fea0714ca6b",
       "version_major": 2,
       "version_minor": 0
      },
      "text/plain": [
       "  0%|          | 0/82521 [00:00<?, ?it/s]"
      ]
     },
     "metadata": {},
     "output_type": "display_data"
    },
    {
     "data": {
      "application/vnd.jupyter.widget-view+json": {
       "model_id": "4206a14079ac465280a2f36fd2692a2a",
       "version_major": 2,
       "version_minor": 0
      },
      "text/plain": [
       "  0%|          | 0/87326 [00:00<?, ?it/s]"
      ]
     },
     "metadata": {},
     "output_type": "display_data"
    },
    {
     "data": {
      "application/vnd.jupyter.widget-view+json": {
       "model_id": "60968e11e56b42e8b759bb0aa96fda10",
       "version_major": 2,
       "version_minor": 0
      },
      "text/plain": [
       "  0%|          | 0/92433 [00:00<?, ?it/s]"
      ]
     },
     "metadata": {},
     "output_type": "display_data"
    },
    {
     "name": "stderr",
     "output_type": "stream",
     "text": [
      "\u001b[32m[I 2022-12-09 23:20:07,957]\u001b[0m Trial 15 finished with value: 0.09373076819710141 and parameters: {'user_knn': 'tf_idf', 'k_users': 123, 'cold_user_threshold': 5, 'cold_item_threshold': 4, 'popular': 'kion', 'weight_column': 'weight_norm', 'ranking': 'mean'}. Best is trial 13 with value: 0.09373076819710141.\u001b[0m\n"
     ]
    },
    {
     "data": {
      "application/vnd.jupyter.widget-view+json": {
       "model_id": "0f9df8051cee4836bea97095d1d7a535",
       "version_major": 2,
       "version_minor": 0
      },
      "text/plain": [
       "  0%|          | 0/82521 [00:00<?, ?it/s]"
      ]
     },
     "metadata": {},
     "output_type": "display_data"
    },
    {
     "data": {
      "application/vnd.jupyter.widget-view+json": {
       "model_id": "b7cb6e67fe114115bcbe19f4506a55b1",
       "version_major": 2,
       "version_minor": 0
      },
      "text/plain": [
       "  0%|          | 0/87326 [00:00<?, ?it/s]"
      ]
     },
     "metadata": {},
     "output_type": "display_data"
    },
    {
     "data": {
      "application/vnd.jupyter.widget-view+json": {
       "model_id": "9906d9cae3bf4426adb1b86f37aeb0de",
       "version_major": 2,
       "version_minor": 0
      },
      "text/plain": [
       "  0%|          | 0/92433 [00:00<?, ?it/s]"
      ]
     },
     "metadata": {},
     "output_type": "display_data"
    },
    {
     "name": "stderr",
     "output_type": "stream",
     "text": [
      "\u001b[32m[I 2022-12-09 23:28:15,382]\u001b[0m Trial 16 finished with value: 0.09373076819710141 and parameters: {'user_knn': 'tf_idf', 'k_users': 149, 'cold_user_threshold': 5, 'cold_item_threshold': 4, 'popular': 'kion', 'weight_column': 'weight_norm', 'ranking': 'mean'}. Best is trial 13 with value: 0.09373076819710141.\u001b[0m\n"
     ]
    },
    {
     "data": {
      "application/vnd.jupyter.widget-view+json": {
       "model_id": "23e25c16328b4032acd5ebef2154d133",
       "version_major": 2,
       "version_minor": 0
      },
      "text/plain": [
       "  0%|          | 0/82521 [00:00<?, ?it/s]"
      ]
     },
     "metadata": {},
     "output_type": "display_data"
    },
    {
     "data": {
      "application/vnd.jupyter.widget-view+json": {
       "model_id": "8a12245a32c44841a2c5ece20d56aaa0",
       "version_major": 2,
       "version_minor": 0
      },
      "text/plain": [
       "  0%|          | 0/87326 [00:00<?, ?it/s]"
      ]
     },
     "metadata": {},
     "output_type": "display_data"
    },
    {
     "data": {
      "application/vnd.jupyter.widget-view+json": {
       "model_id": "099bdb6ad7a84e89940214bee55fd299",
       "version_major": 2,
       "version_minor": 0
      },
      "text/plain": [
       "  0%|          | 0/92433 [00:00<?, ?it/s]"
      ]
     },
     "metadata": {},
     "output_type": "display_data"
    },
    {
     "name": "stderr",
     "output_type": "stream",
     "text": [
      "\u001b[32m[I 2022-12-09 23:36:22,106]\u001b[0m Trial 17 finished with value: 0.09373076819710141 and parameters: {'user_knn': 'tf_idf', 'k_users': 150, 'cold_user_threshold': 5, 'cold_item_threshold': 4, 'popular': 'kion', 'weight_column': 'weight_norm', 'ranking': 'mean'}. Best is trial 13 with value: 0.09373076819710141.\u001b[0m\n"
     ]
    },
    {
     "data": {
      "application/vnd.jupyter.widget-view+json": {
       "model_id": "b4d39b54c0714480922537338cd014db",
       "version_major": 2,
       "version_minor": 0
      },
      "text/plain": [
       "  0%|          | 0/127665 [00:00<?, ?it/s]"
      ]
     },
     "metadata": {},
     "output_type": "display_data"
    },
    {
     "name": "stderr",
     "output_type": "stream",
     "text": [
      "\u001b[32m[I 2022-12-09 23:39:54,985]\u001b[0m Trial 18 pruned. \u001b[0m\n"
     ]
    },
    {
     "data": {
      "application/vnd.jupyter.widget-view+json": {
       "model_id": "ea2c9741074640b69ec5e3c82db7491f",
       "version_major": 2,
       "version_minor": 0
      },
      "text/plain": [
       "  0%|          | 0/127592 [00:00<?, ?it/s]"
      ]
     },
     "metadata": {},
     "output_type": "display_data"
    },
    {
     "name": "stderr",
     "output_type": "stream",
     "text": [
      "\u001b[32m[I 2022-12-09 23:43:25,497]\u001b[0m Trial 19 pruned. \u001b[0m\n"
     ]
    }
   ],
   "source": [
    "# Подберем гиперпараметры модели\n",
    "study = optuna.create_study(direction='maximize')\n",
    "study.optimize(objective, n_trials=20)"
   ]
  },
  {
   "cell_type": "markdown",
   "id": "b6bfccc0",
   "metadata": {},
   "source": [
    "# Train"
   ]
  },
  {
   "cell_type": "code",
   "execution_count": 19,
   "id": "df6c59ac",
   "metadata": {},
   "outputs": [],
   "source": [
    "def train(trial):\n",
    "    params = select_params(trial)\n",
    "    model = UserKnn(**params) \n",
    "    model.fit(interactions)\n",
    "    model.save('best_model')"
   ]
  },
  {
   "cell_type": "code",
   "execution_count": 20,
   "id": "7b51a0ed",
   "metadata": {},
   "outputs": [],
   "source": [
    "# Заново считаем данные\n",
    "interactions, users, items = read_data()"
   ]
  },
  {
   "cell_type": "code",
   "execution_count": 21,
   "id": "b1452839",
   "metadata": {},
   "outputs": [
    {
     "data": {
      "application/vnd.jupyter.widget-view+json": {
       "model_id": "d6da8caf6a9d4fc0ae27acf828f67f9f",
       "version_major": 2,
       "version_minor": 0
      },
      "text/plain": [
       "  0%|          | 0/302310 [00:00<?, ?it/s]"
      ]
     },
     "metadata": {},
     "output_type": "display_data"
    }
   ],
   "source": [
    "# Обучим с лучшим набором параметров модель на всех данных\n",
    "train(study.best_trial)"
   ]
  }
 ],
 "metadata": {
  "kernelspec": {
   "display_name": "Python 3 (ipykernel)",
   "language": "python",
   "name": "python3"
  },
  "language_info": {
   "codemirror_mode": {
    "name": "ipython",
    "version": 3
   },
   "file_extension": ".py",
   "mimetype": "text/x-python",
   "name": "python",
   "nbconvert_exporter": "python",
   "pygments_lexer": "ipython3",
   "version": "3.8.13"
  }
 },
 "nbformat": 4,
 "nbformat_minor": 5
}
